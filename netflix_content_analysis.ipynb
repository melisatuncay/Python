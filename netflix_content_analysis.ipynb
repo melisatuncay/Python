{
 "cells": [
  {
   "cell_type": "raw",
   "id": "cb69b7a7-aabe-48ca-b68a-014b8428a79d",
   "metadata": {},
   "source": [
    "# Project Title\n",
    "Netflix Content Analysis: Exploring Netflix Movie and TV Series Trends"
   ]
  },
  {
   "cell_type": "raw",
   "id": "e10542ca-99fc-417e-8595-2facdaf4c997",
   "metadata": {},
   "source": [
    "## Introduction\n",
    "This project explores the trends, patterns, and distributions in Netflix's movie and TV series catalog.  \n",
    "We will examine key metrics such as release year, type (Movie vs. TV Show), duration, genres, and country of origin to uncover patterns in content distribution over time.\n",
    "\n",
    "The dataset used is sourced from [Kaggle's Netflix Movies and TV Shows dataset](https://www.kaggle.com/datasets).  \n",
    "We will perform data wrangling and exploratory data analysis (EDA) to answer questions like:\n",
    "\n",
    "- What are the most common genres?\n",
    "- Which countries produce the most content on Netflix?\n",
    "- How has the number of new releases evolved over time?\n",
    "- Are TV Shows or Movies more dominant on the platform?\n",
    "\n",
    "## Tools Used\n",
    "- **Python**\n",
    "- **Pandas**, **NumPy**\n",
    "- **Matplotlib**, **Seaborn**"
   ]
  },
  {
   "cell_type": "code",
   "execution_count": null,
   "id": "f0904071-6d57-4bb6-808f-2eccea8c1daf",
   "metadata": {},
   "outputs": [],
   "source": [
    "# Table of Contents\n",
    "\n",
    "- Asking Questions\n",
    "- Data Cleaning\n",
    "- Exploratory Data Analysis (EDA)\n",
    "- Results"
   ]
  },
  {
   "cell_type": "code",
   "execution_count": null,
   "id": "35c3a044-948a-44da-a386-88e1471a9708",
   "metadata": {},
   "outputs": [],
   "source": [
    "# QUESTIONS\n",
    "\n",
    "Q1: What is the distribution of content on Netflix by year?\n",
    "Q2: Are movies or TV series more popular on Netflix?\n",
    "Q3: Which genres are more popular?\n",
    "Q4: Which countries provide the most content to Netflix?"
   ]
  },
  {
   "cell_type": "code",
   "execution_count": null,
   "id": "914e51a8-0959-4017-aabe-653bf0ac5ad2",
   "metadata": {},
   "outputs": [],
   "source": [
    "## Data Wrangling\n",
    "We will prepare the environment, load and assess dataset. Subsequently, we also clean and process the data for analysis.\n",
    "\n",
    "Preparing the Environment"
   ]
  },
  {
   "cell_type": "code",
   "execution_count": 7,
   "id": "4460ebd1-39d9-4c83-a561-837b8211fef2",
   "metadata": {},
   "outputs": [
    {
     "data": {
      "text/html": [
       "<div>\n",
       "<style scoped>\n",
       "    .dataframe tbody tr th:only-of-type {\n",
       "        vertical-align: middle;\n",
       "    }\n",
       "\n",
       "    .dataframe tbody tr th {\n",
       "        vertical-align: top;\n",
       "    }\n",
       "\n",
       "    .dataframe thead th {\n",
       "        text-align: right;\n",
       "    }\n",
       "</style>\n",
       "<table border=\"1\" class=\"dataframe\">\n",
       "  <thead>\n",
       "    <tr style=\"text-align: right;\">\n",
       "      <th></th>\n",
       "      <th>show_id</th>\n",
       "      <th>type</th>\n",
       "      <th>title</th>\n",
       "      <th>director</th>\n",
       "      <th>cast</th>\n",
       "      <th>country</th>\n",
       "      <th>date_added</th>\n",
       "      <th>release_year</th>\n",
       "      <th>rating</th>\n",
       "      <th>duration</th>\n",
       "      <th>listed_in</th>\n",
       "      <th>description</th>\n",
       "    </tr>\n",
       "  </thead>\n",
       "  <tbody>\n",
       "    <tr>\n",
       "      <th>0</th>\n",
       "      <td>s1</td>\n",
       "      <td>Movie</td>\n",
       "      <td>Dick Johnson Is Dead</td>\n",
       "      <td>Kirsten Johnson</td>\n",
       "      <td>NaN</td>\n",
       "      <td>United States</td>\n",
       "      <td>September 25, 2021</td>\n",
       "      <td>2020</td>\n",
       "      <td>PG-13</td>\n",
       "      <td>90 min</td>\n",
       "      <td>Documentaries</td>\n",
       "      <td>As her father nears the end of his life, filmm...</td>\n",
       "    </tr>\n",
       "    <tr>\n",
       "      <th>1</th>\n",
       "      <td>s2</td>\n",
       "      <td>TV Show</td>\n",
       "      <td>Blood &amp; Water</td>\n",
       "      <td>NaN</td>\n",
       "      <td>Ama Qamata, Khosi Ngema, Gail Mabalane, Thaban...</td>\n",
       "      <td>South Africa</td>\n",
       "      <td>September 24, 2021</td>\n",
       "      <td>2021</td>\n",
       "      <td>TV-MA</td>\n",
       "      <td>2 Seasons</td>\n",
       "      <td>International TV Shows, TV Dramas, TV Mysteries</td>\n",
       "      <td>After crossing paths at a party, a Cape Town t...</td>\n",
       "    </tr>\n",
       "    <tr>\n",
       "      <th>2</th>\n",
       "      <td>s3</td>\n",
       "      <td>TV Show</td>\n",
       "      <td>Ganglands</td>\n",
       "      <td>Julien Leclercq</td>\n",
       "      <td>Sami Bouajila, Tracy Gotoas, Samuel Jouy, Nabi...</td>\n",
       "      <td>NaN</td>\n",
       "      <td>September 24, 2021</td>\n",
       "      <td>2021</td>\n",
       "      <td>TV-MA</td>\n",
       "      <td>1 Season</td>\n",
       "      <td>Crime TV Shows, International TV Shows, TV Act...</td>\n",
       "      <td>To protect his family from a powerful drug lor...</td>\n",
       "    </tr>\n",
       "  </tbody>\n",
       "</table>\n",
       "</div>"
      ],
      "text/plain": [
       "  show_id     type                 title         director  \\\n",
       "0      s1    Movie  Dick Johnson Is Dead  Kirsten Johnson   \n",
       "1      s2  TV Show         Blood & Water              NaN   \n",
       "2      s3  TV Show             Ganglands  Julien Leclercq   \n",
       "\n",
       "                                                cast        country  \\\n",
       "0                                                NaN  United States   \n",
       "1  Ama Qamata, Khosi Ngema, Gail Mabalane, Thaban...   South Africa   \n",
       "2  Sami Bouajila, Tracy Gotoas, Samuel Jouy, Nabi...            NaN   \n",
       "\n",
       "           date_added  release_year rating   duration  \\\n",
       "0  September 25, 2021          2020  PG-13     90 min   \n",
       "1  September 24, 2021          2021  TV-MA  2 Seasons   \n",
       "2  September 24, 2021          2021  TV-MA   1 Season   \n",
       "\n",
       "                                           listed_in  \\\n",
       "0                                      Documentaries   \n",
       "1    International TV Shows, TV Dramas, TV Mysteries   \n",
       "2  Crime TV Shows, International TV Shows, TV Act...   \n",
       "\n",
       "                                         description  \n",
       "0  As her father nears the end of his life, filmm...  \n",
       "1  After crossing paths at a party, a Cape Town t...  \n",
       "2  To protect his family from a powerful drug lor...  "
      ]
     },
     "execution_count": 7,
     "metadata": {},
     "output_type": "execute_result"
    }
   ],
   "source": [
    "# Import required libraries\n",
    "import pandas as pd\n",
    "import numpy as np\n",
    "import matplotlib.pyplot as plt\n",
    "import seaborn as sns\n",
    "\n",
    "# Display settings\n",
    "pd.set_option('display.max_columns', None)\n",
    "sns.set(style=\"whitegrid\")\n",
    "\n",
    "# Load the Excel file\n",
    "file_path = r'C:/Users/Monster/Desktop/Exploring Netflix Movie and TV Series Trends.xlsx'\n",
    "df = pd.read_excel(file_path)\n",
    "\n",
    "# Quick look at the data\n",
    "df.head(3)\n"
   ]
  },
  {
   "cell_type": "code",
   "execution_count": null,
   "id": "05c1eaf7-4422-4a47-b2df-7766b4a33ce2",
   "metadata": {},
   "outputs": [],
   "source": [
    "Data Overview and Missing Values"
   ]
  },
  {
   "cell_type": "code",
   "execution_count": 9,
   "id": "fbbf7697-f441-4c75-9637-8e3c80a28106",
   "metadata": {},
   "outputs": [
    {
     "name": "stdout",
     "output_type": "stream",
     "text": [
      "<class 'pandas.core.frame.DataFrame'>\n",
      "RangeIndex: 8807 entries, 0 to 8806\n",
      "Data columns (total 12 columns):\n",
      " #   Column        Non-Null Count  Dtype \n",
      "---  ------        --------------  ----- \n",
      " 0   show_id       8807 non-null   object\n",
      " 1   type          8807 non-null   object\n",
      " 2   title         8807 non-null   object\n",
      " 3   director      6173 non-null   object\n",
      " 4   cast          7982 non-null   object\n",
      " 5   country       7976 non-null   object\n",
      " 6   date_added    8797 non-null   object\n",
      " 7   release_year  8807 non-null   int64 \n",
      " 8   rating        8803 non-null   object\n",
      " 9   duration      8804 non-null   object\n",
      " 10  listed_in     8807 non-null   object\n",
      " 11  description   8807 non-null   object\n",
      "dtypes: int64(1), object(11)\n",
      "memory usage: 825.8+ KB\n",
      "\n",
      "Missing Values:\n",
      " director      2634\n",
      "cast           825\n",
      "country        831\n",
      "date_added      10\n",
      "rating           4\n",
      "duration         3\n",
      "dtype: int64\n"
     ]
    }
   ],
   "source": [
    "# General information about the dataset\n",
    "df.info()\n",
    "\n",
    "# Checking for missing values\n",
    "missing_values = df.isnull().sum()\n",
    "\n",
    "# Display only columns with missing values\n",
    "missing_values = missing_values[missing_values > 0]\n",
    "print(\"\\nMissing Values:\\n\", missing_values)"
   ]
  },
  {
   "cell_type": "code",
   "execution_count": null,
   "id": "67a75b9e-c98e-421a-bd8c-fecd9f6ab075",
   "metadata": {},
   "outputs": [],
   "source": [
    "Handle Duplicates"
   ]
  },
  {
   "cell_type": "code",
   "execution_count": 11,
   "id": "1f7ec36d-c79b-437d-ad2c-af14c33c5ddc",
   "metadata": {},
   "outputs": [
    {
     "data": {
      "text/plain": [
       "0"
      ]
     },
     "execution_count": 11,
     "metadata": {},
     "output_type": "execute_result"
    }
   ],
   "source": [
    "# Check for duplicates\n",
    "df.duplicated().sum()"
   ]
  },
  {
   "cell_type": "code",
   "execution_count": null,
   "id": "aebf17c0-022b-41d8-9e04-6d97598a12f9",
   "metadata": {},
   "outputs": [],
   "source": [
    "Fillna"
   ]
  },
  {
   "cell_type": "code",
   "execution_count": 13,
   "id": "f24d86d6-e1be-4961-beeb-3b1bcaadd0f1",
   "metadata": {},
   "outputs": [],
   "source": [
    "# Fill the missing country values with “Unknown”\n",
    "df['country'] = df['country'].fillna('Unknown')"
   ]
  },
  {
   "cell_type": "code",
   "execution_count": null,
   "id": "d29c77c0-b6ac-40e9-8c9a-b2f9b107d584",
   "metadata": {},
   "outputs": [],
   "source": [
    "Exploratory Data Analysis\n"
   ]
  },
  {
   "cell_type": "code",
   "execution_count": null,
   "id": "20b2455d-ec80-4c12-8cac-85509e7b255e",
   "metadata": {},
   "outputs": [],
   "source": [
    "Q1: What is the distribution of content on Netflix by year?"
   ]
  },
  {
   "cell_type": "code",
   "execution_count": 15,
   "id": "d100d5e7-527c-4a98-9052-ec2ab335dd21",
   "metadata": {},
   "outputs": [
    {
     "data": {
      "image/png": "[encoded data removed]",
      "text/plain": [
       "<Figure size 1500x700 with 1 Axes>"
      ]
     },
     "metadata": {},
     "output_type": "display_data"
    }
   ],
   "source": [
    "# Import library\n",
    "import pandas as pd\n",
    "import matplotlib.pyplot as plt\n",
    "import seaborn as sns\n",
    "\n",
    "# Read data\n",
    "df = pd.read_excel(\"C:/Users/Monster/Desktop/Exploring Netflix Movie and TV Series Trends.xlsx\")\n",
    "\n",
    "# 2000 and later\n",
    "df_recent = df[df['release_year'] >= 2000]\n",
    "\n",
    "# Calculate number of items by release_year\n",
    "content_per_year = df_recent['release_year'].value_counts().sort_index()\n",
    "\n",
    "# Chart plot\n",
    "plt.figure(figsize=(15, 7))\n",
    "sns.barplot(x=content_per_year.index, y=content_per_year.values, color='blue')\n",
    "plt.title('Distribution of Netflix Content by Release Year (2000 and Later)')\n",
    "plt.xlabel('Release Year')\n",
    "plt.ylabel('Number of Titles')\n",
    "plt.xticks(rotation=90)\n",
    "plt.show()"
   ]
  },
  {
   "cell_type": "code",
   "execution_count": 17,
   "id": "470457cb-26e1-45b2-8073-2193e5d3ddd4",
   "metadata": {},
   "outputs": [
    {
     "data": {
      "text/html": [
       "<div>\n",
       "<style scoped>\n",
       "    .dataframe tbody tr th:only-of-type {\n",
       "        vertical-align: middle;\n",
       "    }\n",
       "\n",
       "    .dataframe tbody tr th {\n",
       "        vertical-align: top;\n",
       "    }\n",
       "\n",
       "    .dataframe thead th {\n",
       "        text-align: right;\n",
       "    }\n",
       "</style>\n",
       "<table border=\"1\" class=\"dataframe\">\n",
       "  <thead>\n",
       "    <tr style=\"text-align: right;\">\n",
       "      <th></th>\n",
       "      <th>release_year</th>\n",
       "    </tr>\n",
       "  </thead>\n",
       "  <tbody>\n",
       "    <tr>\n",
       "      <th>count</th>\n",
       "      <td>8807.000000</td>\n",
       "    </tr>\n",
       "    <tr>\n",
       "      <th>mean</th>\n",
       "      <td>2014.180198</td>\n",
       "    </tr>\n",
       "    <tr>\n",
       "      <th>std</th>\n",
       "      <td>8.819312</td>\n",
       "    </tr>\n",
       "    <tr>\n",
       "      <th>min</th>\n",
       "      <td>1925.000000</td>\n",
       "    </tr>\n",
       "    <tr>\n",
       "      <th>25%</th>\n",
       "      <td>2013.000000</td>\n",
       "    </tr>\n",
       "    <tr>\n",
       "      <th>50%</th>\n",
       "      <td>2017.000000</td>\n",
       "    </tr>\n",
       "    <tr>\n",
       "      <th>75%</th>\n",
       "      <td>2019.000000</td>\n",
       "    </tr>\n",
       "    <tr>\n",
       "      <th>max</th>\n",
       "      <td>2021.000000</td>\n",
       "    </tr>\n",
       "  </tbody>\n",
       "</table>\n",
       "</div>"
      ],
      "text/plain": [
       "       release_year\n",
       "count   8807.000000\n",
       "mean    2014.180198\n",
       "std        8.819312\n",
       "min     1925.000000\n",
       "25%     2013.000000\n",
       "50%     2017.000000\n",
       "75%     2019.000000\n",
       "max     2021.000000"
      ]
     },
     "execution_count": 17,
     "metadata": {},
     "output_type": "execute_result"
    }
   ],
   "source": [
    "df.describe()"
   ]
  },
  {
   "cell_type": "code",
   "execution_count": null,
   "id": "5730e586-bd15-40f8-8e27-e1af3e79108a",
   "metadata": {},
   "outputs": [],
   "source": [
    "From the graph, we observe a steady increase in the number of titles released each year starting from 2000, reaching a peak around 2018-2019. \n",
    "This trend indicates that Netflix has significantly expanded its content library over the years, especially in the late 2010s, \n",
    "likely due to increased production of original content and global expansion. However, there is a slight drop in 2020, possibly influenced \n",
    "by the COVID-19 pandemic’s impact on film and TV production worldwide."
   ]
  },
  {
   "cell_type": "code",
   "execution_count": null,
   "id": "07b265b9-d59a-4ab5-98d4-23b07881fd0b",
   "metadata": {},
   "outputs": [],
   "source": [
    "Q2: Are Movies or TV Series More Popular on Netflix?"
   ]
  },
  {
   "cell_type": "code",
   "execution_count": 21,
   "id": "b399f576-c4cc-48b8-bc9a-f8ac35edb4de",
   "metadata": {},
   "outputs": [
    {
     "data": {
      "text/plain": [
       "count      8807\n",
       "unique        2\n",
       "top       Movie\n",
       "freq       6131\n",
       "Name: type, dtype: object"
      ]
     },
     "execution_count": 21,
     "metadata": {},
     "output_type": "execute_result"
    }
   ],
   "source": [
    "df['type'].describe()"
   ]
  },
  {
   "cell_type": "code",
   "execution_count": 19,
   "id": "6dd350a6-8855-489d-b2b8-20d3511e1338",
   "metadata": {},
   "outputs": [
    {
     "name": "stderr",
     "output_type": "stream",
     "text": [
      "C:\\Users\\Monster\\AppData\\Local\\Temp\\ipykernel_16176\\3220185109.py:12: FutureWarning: \n",
      "\n",
      "Passing `palette` without assigning `hue` is deprecated and will be removed in v0.14.0. Assign the `x` variable to `hue` and set `legend=False` for the same effect.\n",
      "\n",
      "  sns.barplot(x=type_counts.index, y=type_counts.values, palette='Set2')\n"
     ]
    },
    {
     "data": {
      "image/png": "[encoded data removed]",
      "text/plain": [
       "<Figure size 600x400 with 1 Axes>"
      ]
     },
     "metadata": {},
     "output_type": "display_data"
    }
   ],
   "source": [
    "import matplotlib.pyplot as plt\n",
    "import seaborn as sns\n",
    "\n",
    "# Stil\n",
    "plt.figure(figsize=(6, 4))\n",
    "sns.set_style(\"whitegrid\")\n",
    "\n",
    "# Calculate numbers\n",
    "type_counts = df['type'].value_counts()\n",
    "\n",
    "# Chart\n",
    "sns.barplot(x=type_counts.index, y=type_counts.values, palette='Set2')\n",
    "plt.title('Distribution of Movies and TV Shows on Netflix')\n",
    "plt.ylabel('Number of Titles')\n",
    "plt.xlabel('Type')\n",
    "plt.tight_layout()\n",
    "plt.show()"
   ]
  },
  {
   "cell_type": "code",
   "execution_count": null,
   "id": "3d92fc7c-adfb-4d97-a39d-df0a70c057e7",
   "metadata": {},
   "outputs": [],
   "source": [
    "The vast majority of content on Netflix consists of movies. \n",
    "This may suggest that the platform places more emphasis on film production and licensing, or that user trends are in this direction."
   ]
  },
  {
   "cell_type": "code",
   "execution_count": null,
   "id": "3f1648f1-702b-4858-be86-4f032ccc4d37",
   "metadata": {},
   "outputs": [],
   "source": []
  }
 ],
 "metadata": {
  "kernelspec": {
   "display_name": "Python [conda env:base] *",
   "language": "python",
   "name": "conda-base-py"
  },
  "language_info": {
   "codemirror_mode": {
    "name": "ipython",
    "version": 3
   },
   "file_extension": ".py",
   "mimetype": "text/x-python",
   "name": "python",
   "nbconvert_exporter": "python",
   "pygments_lexer": "ipython3",
   "version": "3.12.7"
  }
 },
 "nbformat": 4,
 "nbformat_minor": 5
}
